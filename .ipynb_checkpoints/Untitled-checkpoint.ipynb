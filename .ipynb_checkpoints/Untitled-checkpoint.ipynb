{
 "cells": [
  {
   "cell_type": "code",
   "execution_count": 1,
   "id": "b743beed-87d9-476a-afa9-c9f87daf9e67",
   "metadata": {},
   "outputs": [],
   "source": [
    "import math as m\n",
    "import h5py \n",
    "import numpy as np\n",
    "import scipy\n",
    "from scipy import signal\n",
    "from scipy.signal import filtfilt\n",
    "from scipy.fftpack import fft, ifft, fftfreq,rfft\n",
    "import matplotlib.pyplot as plt\n",
    "import csv\n",
    "import pandas"
   ]
  },
  {
   "cell_type": "code",
   "execution_count": null,
   "id": "e8982971-d9f9-49d9-b055-82bb286eef85",
   "metadata": {},
   "outputs": [],
   "source": []
  },
  {
   "cell_type": "code",
   "execution_count": 2,
   "id": "f14bf701-920c-43d8-ac06-2e3a4d467d2f",
   "metadata": {},
   "outputs": [],
   "source": [
    "class Antenna:\n",
    "    \"\"\" antenna with location and timeseries of Efield\"\"\"\n",
    "    def __init__(self,x,y,z,name=\"\"):\n",
    "        self.x = x\n",
    "        self.y = y\n",
    "        self.z = z\n",
    "        self.name = name\n",
    "\n",
    "class REvent:\n",
    "    \"\"\" An interface class for reading simulations \"\"\"\n",
    "    def __init__(self,filename):\n",
    "        self.reasfile = filename\n",
    "        if '.reas' in filename:\n",
    "            self.reasfile = filename\n",
    "            self.parse_reas()\n",
    "        elif '.hdf5' in filename:\n",
    "            self.hdf5file = filename\n",
    "            self.parse_hdf5()\n",
    "\n",
    "    def parse_reas(self):\n",
    "        \"\"\" parse *reas file \"\"\"\n",
    "        f = open(self.reasfile)\n",
    "        lines = f.readlines()\n",
    "        for l in lines:\n",
    "            if 'ShowerZenithAngle' in l:\n",
    "                self.zenith = float(l.split()[2])\n",
    "            if 'ShowerAzimuthAngle' in l:\n",
    "                self.azimuth = float(l.split()[2]) + 180\n",
    "                if self.azimuth > 360:\n",
    "                    self.azimuth = self.azimuth - 360\n",
    "            if 'DepthOfShowerMaximum' in l:\n",
    "                self.xmax = float(l.split()[2])\n",
    "            if 'PrimaryParticleEnergy' in l:\n",
    "                self.energy = float(l.split()[2])/1e18\n",
    "            if 'PrimaryParticleType' in l:\n",
    "                self.part_id = int(l.split()[2])\n",
    "            if 'MagneticFieldInclinationAngle' in l:\n",
    "                self.Binc = float(l.split()[2])\n",
    "            if 'MagneticFieldStrength' in l:\n",
    "                self.Bmag = float(l.split()[2])\n",
    "        self.parse_reas_antenas()\n",
    "        self.set_unit_vectors()\n",
    "\n",
    "    def parse_reas_antenas(self):\n",
    "        \"\"\"Parse the antennas by reas \"\"\"\n",
    "        self.listfile = self.reasfile.replace('.reas','.list')\n",
    "        f = open(self.listfile)\n",
    "        lines = f.readlines()\n",
    "        self.antennas = []\n",
    "        print('reading ' +  str(len(lines)) + ' antennas')\n",
    "        for l in lines:\n",
    "            a = Antenna(float(l.split()[2])/100,float(l.split()[3])/100,float(l.split()[4])/100,l.split()[5])\n",
    "            efile = self.listfile.replace('.list','_coreas/raw_'+ a.name + '.dat')\n",
    "            a.t, a.Ex, a.Ey, a.Ez = np.loadtxt(efile,unpack=True)\n",
    "            a.t = np.asarray(a.t)*1e9 #use nanoseconds\n",
    "            a.Ex = np.asarray(a.Ex) * 2.99792458e10 #cgs statvolt/cm volt -> mu V/m (SI)\n",
    "            a.Ey = np.asarray(a.Ey) * 2.99792458e10 #cgs statvolt/cm volt-> mu V/m (SI)\n",
    "            a.Ez = np.asarray(a.Ez) * 2.99792458e10 #cgs statvolt/cm volt-> mu V/m (SI)\n",
    "            self.antennas.append(a)\n",
    "\n",
    "    def parse_hdf5(self):\n",
    "        f = h5py.File(self.hdf5file, \"r\")\n",
    "        self.antennas = []\n",
    "        ai = f[list(f.keys())[-1] + '/AntennaInfo']\n",
    "        for ai_ in ai:\n",
    "            a = Antenna(ai_[1],ai_[2],ai_[3],ai_[0].decode('UTF-8'))\n",
    "            self.antennas.append(a)\n",
    "        print('reading ' +  str(len(self.antennas)) + ' antennas')\n",
    "\n",
    "        traces = f[list(f.keys())[-1] + '/AntennaTraces']\n",
    "        for tr in traces:\n",
    "            for a in self.antennas:\n",
    "                if a.name == tr:\n",
    "                    break\n",
    "            a.t = []\n",
    "            a.Ex = []\n",
    "            a.Ey = []\n",
    "            a.Ez =[]\n",
    "            for tup in traces[tr + '/efield']:\n",
    "                a.t.append(tup[0])\n",
    "                a.Ex.append(tup[1])\n",
    "                a.Ey.append(tup[2])\n",
    "                a.Ez.append(tup[3])\n",
    "            a.t = np.asarray(a.t)\n",
    "            a.Ex = np.asarray(a.Ex)\n",
    "            a.Ey = np.asarray(a.Ey)\n",
    "            a.Ez = np.asarray(a.Ez)\n",
    "\n",
    "        ei = f[list(f.keys())[-1] + '/EventInfo']\n",
    "        ei=ei[0]\n",
    "        self.zenith = 180.-ei[4]\n",
    "        self.azimuth = ei[5]+180\n",
    "        if self.azimuth >= 360:\n",
    "            self.azimuth -= 360\n",
    "        self.xmax = ei[9]\n",
    "        self.energy = ei[3]\n",
    "        self.part_id = ei[2].decode('UTF-8')\n",
    "        self.Bmag = ei[16]\n",
    "        self.Binc = ei[17]\n",
    "        self.Bdec = ei[18]\n",
    "        self.ground=ei[11]\n",
    "        self.dist_xmax=ei[6]"
   ]
  },
  {
   "cell_type": "code",
   "execution_count": 3,
   "id": "ec7eaf1d-d879-4c66-ad50-772cbc38b3eb",
   "metadata": {},
   "outputs": [],
   "source": [
    "\n",
    "def bandPassFilter(signal,fs,lowcut=0.03, hicut=0.08, order = 6):#GHz\n",
    "    '''Returns filtered signal using thr butter worth filter of order 6'''\n",
    "    niq=fs/2\n",
    "    low= lowcut/niq\n",
    "    high=hicut/niq\n",
    "   \n",
    "    b,a=scipy.signal.butter(order,[low,high],'bandpass',analog=False)\n",
    "    y = scipy.signal.filtfilt(b,a,signal)\n",
    "    return (y)"
   ]
  },
  {
   "cell_type": "code",
   "execution_count": 4,
   "id": "e626beb1-f0ed-4686-a8a7-d5800b1c2ea1",
   "metadata": {},
   "outputs": [
    {
     "name": "stdout",
     "output_type": "stream",
     "text": [
      "reading 176 antennas\n"
     ]
    }
   ],
   "source": [
    "import numpy as np\n",
    "import matplotlib.pyplot as plt\n",
    "file='/home/anthony/Documents/Stshp_Proton_3.98_86.5_90.0_20.hdf5'\n",
    "\n",
    "ev = REvent(file)\n",
    "x = np.asanyarray([a.x for a in ev.antennas])\n",
    "y = np.asanyarray([a.y for a in ev.antennas])\n",
    "dt = ev.antennas[0].t[1]-ev.antennas[0].t[0]\n",
    "maxVals = [np.max([np.max(a.Ex),np.max(a.Ey),np.max(a.Ez)])for a in ev.antennas]\n",
    "lmaxVals=np.asanyarray( np.log10(maxVals))\n",
    "cut = lmaxVals>-8\n"
   ]
  },
  {
   "cell_type": "code",
   "execution_count": 12,
   "id": "09521d25-08b8-417b-bb78-a9f85c10bdef",
   "metadata": {},
   "outputs": [],
   "source": [
    "def footprint(lim=100):\n",
    "    '''Calculting the area of the radio footptint of the shower '''\n",
    "    footprt=np.array([])\n",
    "    yp=np.array([])\n",
    "    xp=np.array([])\n",
    "    dt = ev.antennas[0].t[1]-ev.antennas[0].t[0]\n",
    "    for i in range(len(ev.antennas)):\n",
    "        j=bandPassFilter(ev.antennas[i].Ex,dt,)\n",
    "        k=bandPassFilter(ev.antennas[i].Ey,dt,)\n",
    "        if (any(a >lim for a in k)or any(a >lim for a in j)) == True:\n",
    "            yp=np.append(yp,y[i])\n",
    "            xp=np.append(xp,x[i])\n",
    "            footprt=np.append(footprt,i)\n",
    "            footprt\n",
    "        else:\n",
    "            None\n",
    "    if xp.size>1:#if the array has atleas two points calculate area\n",
    "        Area1= np.pi*max(map(abs, xp))*max(map(abs, yp))\n",
    "        u=0     #x-position of the center\n",
    "        v=0  #y-position of the center\n",
    "        a=max(map(abs, xp))    #radius on the x-axis\n",
    "        b=max(map(abs, yp))   #radius on the y-axis\n",
    "        xV=[]\n",
    "        yV=[]\n",
    "        c=0\n",
    "        d=0\n",
    "        for i in range(len(yp)):\n",
    "            if yp[i]== 0:\n",
    "                xV.append(xp[i])\n",
    "                c=min(map(abs, xV))\n",
    "            if c == 0 or a==c:\n",
    "                c=a*0.3                           \n",
    "        for i in range(len(xp)):\n",
    "            if xp[i]== 0:\n",
    "                yV.append(yp[i])\n",
    "                d=min(map(abs, yV))\n",
    "            if d==0 or d==b:\n",
    "                d=b*0.3\n",
    "           \n",
    "        Area2= np.pi*c*d    \n",
    "        Area=Area1-Area2        \n",
    "        t = np.linspace(0, 2*np.pi, 100)\n",
    "        plt.scatter(xp,yp)\n",
    "        plt.xlabel('x [m]')\n",
    "        plt.ylabel('y [m]')\n",
    "        plt.plot( u+a*np.cos(t) , v+b*np.sin(t),label=str(lim)+' $\\mu V/m$ outter')\n",
    "        plt.plot( u+c*np.cos(t) , v+d*np.sin(t),label=str(lim)+' $\\mu V/m$ inner' )\n",
    "        plt.grid(color='lightgray',linestyle='--')\n",
    "        plt.legend(title=\"footprint\", fontsize=10, title_fontsize=15)\n",
    "        plt.grid()\n",
    "        print(str(lim)+ r' micro V/m = '+str(round(Area,2))+r'$m^2$' )\n",
    "        return round(Area,4),round(a,2),round(b,2)\n",
    "    else:\n",
    "        #print('No detection at  '+str(lim)+' micro V')\n",
    "        return 0,0,0  "
   ]
  },
  {
   "cell_type": "code",
   "execution_count": 13,
   "id": "1ed60d60",
   "metadata": {},
   "outputs": [
    {
     "name": "stdout",
     "output_type": "stream",
     "text": [
      "100 micro V/m = 211994953.83$m^2$\n"
     ]
    },
    {
     "data": {
      "text/plain": [
       "(211994953.8323, 2186.88, 33908.56)"
      ]
     },
     "execution_count": 13,
     "metadata": {},
     "output_type": "execute_result"
    },
    {
     "data": {
      "image/png": "[encoded data removed]",
      "text/plain": [
       "<Figure size 432x288 with 1 Axes>"
      ]
     },
     "metadata": {
      "needs_background": "light"
     },
     "output_type": "display_data"
    }
   ],
   "source": [
    "footprint(100)"
   ]
  },
  {
   "cell_type": "code",
   "execution_count": null,
   "id": "ac8f7c32",
   "metadata": {},
   "outputs": [],
   "source": []
  },
  {
   "cell_type": "code",
   "execution_count": 7,
   "id": "9969e9f0-07e1-4910-8c4e-8f2a7d0d5c95",
   "metadata": {},
   "outputs": [
    {
     "data": {
      "image/png": "[encoded data removed]",
      "text/plain": [
       "<Figure size 432x288 with 2 Axes>"
      ]
     },
     "metadata": {
      "needs_background": "light"
     },
     "output_type": "display_data"
    }
   ],
   "source": [
    "def footprint22(lim=100):\n",
    "    '''Seeing the radio footptint of the shower '''\n",
    "    footprt=np.array([])\n",
    "    yp=[]\n",
    "    xp=[]\n",
    "    maxVals=[]\n",
    "    for i in range(len(ev.antennas)):\n",
    "        j=bandPassFilter(ev.antennas[i].Ex,1/dt)\n",
    "        k=bandPassFilter(ev.antennas[i].Ey,1/dt)\n",
    "        mj=np.max(np.abs(j))\n",
    "        mk=np.max(np.abs(k))\n",
    "        maxVals.append(np.max([mj,mk]))\n",
    "        yp.append(y[i])\n",
    "        xp.append(x[i])\n",
    "    plt.scatter(xp,yp,c=maxVals,cmap='Spectral_r',vmin=lim,vmax=lim+10)\n",
    "    plt.xlabel('x [m]')\n",
    "    plt.ylabel('y [m]')\n",
    "    plt.colorbar()\n",
    "footprint(lim=500)\n",
    "footprint22(lim=500)"
   ]
  },
  {
   "cell_type": "code",
   "execution_count": null,
   "id": "66f271b4-dcd9-4b2d-a88c-53558177ccb2",
   "metadata": {},
   "outputs": [],
   "source": []
  },
  {
   "cell_type": "code",
   "execution_count": 8,
   "id": "b94b50ff-c798-43c8-b552-ac47b15a4512",
   "metadata": {},
   "outputs": [
    {
     "data": {
      "text/plain": [
       "(156197515.4153, 1838.53, 29717.49)"
      ]
     },
     "execution_count": 8,
     "metadata": {},
     "output_type": "execute_result"
    }
   ],
   "source": [
    "footprint(25)\n",
    "footprint(50)\n",
    "footprint(500)\n",
    "footprint(600)"
   ]
  },
  {
   "cell_type": "code",
   "execution_count": 9,
   "id": "b83ac909-ab5a-4137-8348-b4b03594ae58",
   "metadata": {},
   "outputs": [
    {
     "name": "stdout",
     "output_type": "stream",
     "text": [
      "reading 176 antennas\n",
      "reading 176 antennas\n",
      "reading 176 antennas\n",
      "['Stshp_Iron_0.0251_71.6_0.0_9.hdf5', 'Stshp_Proton_1.58_71.6_90.0_3.hdf5', 'Stshp_Proton_3.98_86.5_90.0_20.hdf5']\n"
     ]
    }
   ],
   "source": [
    "import os\n",
    "'''reading multiple files and calculating the area/ nb/ best turn imageing of in function'''\n",
    "path='/home/anthony/Documents/'\n",
    "file_list = file_list = [f for f in os.listdir(path) if os.path.isfile(os.path.join(path,f)) and f.endswith('.hdf5')]\n",
    "A51 = np.array([])\n",
    "for i in range(len(file_list)):\n",
    "#for i in range(0,4):\n",
    "      fname = file_list[i]\n",
    "      ev = REvent(path+fname)\n",
    "      x = np.asanyarray([a.x for a in ev.antennas])\n",
    "      y = np.asanyarray([a.y for a in ev.antennas])\n",
    "      limz=[25,50,75,100,200]\n",
    "      flim0=footprint(limz[0])\n",
    "      flim1=footprint(limz[1])\n",
    "      flim2=footprint(limz[2])\n",
    "      flim3=footprint(limz[3])\n",
    "      flim4=footprint(limz[4])\n",
    "      A51=np.append(A51, [ ev.part_id,ev.energy,ev.xmax,ev.zenith,ev.azimuth,flim0[0],flim1[0],flim2[0],flim3[0],flim4[0] ],axis=0)\n",
    "print(file_list)\n",
    "\n"
   ]
  },
  {
   "cell_type": "code",
   "execution_count": null,
   "id": "4e257343-733c-48b7-b02e-74bc91f58b56",
   "metadata": {},
   "outputs": [],
   "source": [
    "A51=np.reshape(A51, (-1,10))\n",
    "np.savetxt(\"footprt3.98\"+str(A51.size/10)+\".txt\", A51,delimiter = \",\",fmt=\" %8.2f\")\n"
   ]
  },
  {
   "cell_type": "code",
   "execution_count": null,
   "id": "0676577e-c72a-4f54-9caf-65b36190fddc",
   "metadata": {},
   "outputs": [],
   "source": []
  },
  {
   "cell_type": "code",
   "execution_count": null,
   "id": "4f3ebf46-334a-43b0-a3cc-79112ce96aba",
   "metadata": {},
   "outputs": [],
   "source": []
  }
 ],
 "metadata": {
  "kernelspec": {
   "display_name": "Python 3 (ipykernel)",
   "language": "python",
   "name": "python3"
  },
  "language_info": {
   "codemirror_mode": {
    "name": "ipython",
    "version": 3
   },
   "file_extension": ".py",
   "mimetype": "text/x-python",
   "name": "python",
   "nbconvert_exporter": "python",
   "pygments_lexer": "ipython3",
   "version": "3.8.10"
  }
 },
 "nbformat": 4,
 "nbformat_minor": 5
}
